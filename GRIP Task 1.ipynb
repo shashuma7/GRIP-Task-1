{
 "cells": [
  {
   "cell_type": "markdown",
   "id": "tired-external",
   "metadata": {},
   "source": [
    "# GRIP TASK 1: Prediction using Supervised ML.\n",
    " \n",
    " Problem Statement: To find the marks scored by a student who studied for 9.25/day using the given data.\n",
    "\n",
    "## Author: Shashwath Saravanan"
   ]
  },
  {
   "cell_type": "code",
   "execution_count": 1,
   "id": "consistent-radio",
   "metadata": {},
   "outputs": [],
   "source": [
    "#Importing required libraries\n",
    "\n",
    "import pandas as pd\n",
    "import numpy as np  \n",
    "import matplotlib.pyplot as plt  \n",
    "%matplotlib inline\n",
    "from sklearn.linear_model import LinearRegression\n",
    "from sklearn.model_selection import train_test_split\n",
    "from sklearn.metrics import r2_score"
   ]
  },
  {
   "cell_type": "code",
   "execution_count": 2,
   "id": "conventional-secondary",
   "metadata": {},
   "outputs": [
    {
     "name": "stdout",
     "output_type": "stream",
     "text": [
      "The dimension of the given data:  (25, 2) \n",
      "\n",
      "Sample of the data are as follows:\n"
     ]
    },
    {
     "data": {
      "text/html": [
       "<div>\n",
       "<style scoped>\n",
       "    .dataframe tbody tr th:only-of-type {\n",
       "        vertical-align: middle;\n",
       "    }\n",
       "\n",
       "    .dataframe tbody tr th {\n",
       "        vertical-align: top;\n",
       "    }\n",
       "\n",
       "    .dataframe thead th {\n",
       "        text-align: right;\n",
       "    }\n",
       "</style>\n",
       "<table border=\"1\" class=\"dataframe\">\n",
       "  <thead>\n",
       "    <tr style=\"text-align: right;\">\n",
       "      <th></th>\n",
       "      <th>Hours</th>\n",
       "      <th>Scores</th>\n",
       "    </tr>\n",
       "  </thead>\n",
       "  <tbody>\n",
       "    <tr>\n",
       "      <th>0</th>\n",
       "      <td>2.5</td>\n",
       "      <td>21</td>\n",
       "    </tr>\n",
       "    <tr>\n",
       "      <th>1</th>\n",
       "      <td>5.1</td>\n",
       "      <td>47</td>\n",
       "    </tr>\n",
       "    <tr>\n",
       "      <th>2</th>\n",
       "      <td>3.2</td>\n",
       "      <td>27</td>\n",
       "    </tr>\n",
       "    <tr>\n",
       "      <th>3</th>\n",
       "      <td>8.5</td>\n",
       "      <td>75</td>\n",
       "    </tr>\n",
       "    <tr>\n",
       "      <th>4</th>\n",
       "      <td>3.5</td>\n",
       "      <td>30</td>\n",
       "    </tr>\n",
       "  </tbody>\n",
       "</table>\n",
       "</div>"
      ],
      "text/plain": [
       "   Hours  Scores\n",
       "0    2.5      21\n",
       "1    5.1      47\n",
       "2    3.2      27\n",
       "3    8.5      75\n",
       "4    3.5      30"
      ]
     },
     "execution_count": 2,
     "metadata": {},
     "output_type": "execute_result"
    }
   ],
   "source": [
    "#Reading the provide data\n",
    "\n",
    "df=pd.read_csv(\"http://bit.ly/w-data\")\n",
    "print(\"The dimension of the given data: \",df.shape, \"\\n\\nSample of the data are as follows:\")\n",
    "df.head()"
   ]
  },
  {
   "cell_type": "markdown",
   "id": "downtown-twelve",
   "metadata": {},
   "source": [
    "We are working with 25 rows of data with two columns, \"Hours\" and \"Scores\""
   ]
  },
  {
   "cell_type": "code",
   "execution_count": 3,
   "id": "democratic-installation",
   "metadata": {},
   "outputs": [
    {
     "data": {
      "image/png": "[encoded data removed]",
      "text/plain": [
       "<Figure size 432x288 with 1 Axes>"
      ]
     },
     "metadata": {
      "needs_background": "light"
     },
     "output_type": "display_data"
    }
   ],
   "source": [
    "#Visualising the given data\n",
    "\n",
    "plt.scatter(df[\"Hours\"], df['Scores']) \n",
    "plt.title('Hours vs Percentage')  \n",
    "plt.xlabel('Hours Studied')  \n",
    "plt.ylabel('Percentage Score')\n",
    "plt.show()"
   ]
  },
  {
   "cell_type": "markdown",
   "id": "duplicate-table",
   "metadata": {},
   "source": [
    "We can observe a linear positive relation between hours studied and percentage of data.\n",
    "\n",
    "### Linear regression model can be used to solve the problem."
   ]
  },
  {
   "cell_type": "markdown",
   "id": "fatty-bonus",
   "metadata": {},
   "source": [
    "## Data Pre-processing"
   ]
  },
  {
   "cell_type": "code",
   "execution_count": 4,
   "id": "introductory-dividend",
   "metadata": {},
   "outputs": [
    {
     "data": {
      "text/plain": [
       "Hours     0\n",
       "Scores    0\n",
       "dtype: int64"
      ]
     },
     "execution_count": 4,
     "metadata": {},
     "output_type": "execute_result"
    }
   ],
   "source": [
    "#Finding missing values in data\n",
    "\n",
    "df.isnull().sum()"
   ]
  },
  {
   "cell_type": "markdown",
   "id": "moderate-schedule",
   "metadata": {},
   "source": [
    "The data has no missing valves\n",
    "\n",
    "##### Data is clean so can proceed with ML"
   ]
  },
  {
   "cell_type": "code",
   "execution_count": 4,
   "id": "handy-mongolia",
   "metadata": {},
   "outputs": [],
   "source": [
    "#initiating feature and label\n",
    "\n",
    "X = np.array(df[\"Hours\"]).reshape(-1, 1) #Feature\n",
    "y = df['Scores'] #Label"
   ]
  },
  {
   "cell_type": "code",
   "execution_count": 5,
   "id": "interior-anthony",
   "metadata": {},
   "outputs": [],
   "source": [
    "#Splitting the data\n",
    "  \n",
    "X_train, X_test, y_train, y_test = train_test_split(X, y, test_size=0.33, random_state=0) \n",
    "\n",
    "#Applying ML algorithm\n",
    "  \n",
    "LR = LinearRegression()  \n",
    "LR.fit(X_train, y_train) \n",
    "\n",
    "#Predicting the marks scored\n",
    "\n",
    "y_pred = LR.predict(X_test)"
   ]
  },
  {
   "cell_type": "markdown",
   "id": "convinced-complement",
   "metadata": {},
   "source": [
    "## Evaluation of the model"
   ]
  },
  {
   "cell_type": "code",
   "execution_count": 6,
   "id": "photographic-democrat",
   "metadata": {},
   "outputs": [
    {
     "name": "stdout",
     "output_type": "stream",
     "text": [
      "r^2 score:  0.9501380068185495\n"
     ]
    }
   ],
   "source": [
    "#Checking the accuracy of the model with R^2 value\n",
    "\n",
    "r2 = r2_score(y_pred, y_test)\n",
    "print('r^2 score: ', r2)"
   ]
  },
  {
   "cell_type": "markdown",
   "id": "powerful-cooler",
   "metadata": {},
   "source": [
    "The r^2 score is close to 1, so the model performs very well and we could solve the problem\n",
    "\n",
    "## Prediction"
   ]
  },
  {
   "cell_type": "code",
   "execution_count": 7,
   "id": "owned-match",
   "metadata": {},
   "outputs": [
    {
     "name": "stdout",
     "output_type": "stream",
     "text": [
      "The estimated marks scored by a student who studies  9.25  is:  92\n"
     ]
    }
   ],
   "source": [
    "#Fetching the marks scored\n",
    "\n",
    "time=np.array(9.25).reshape(-1,1)\n",
    "pred_marks = LR.predict(time) \n",
    "print(\"The estimated marks scored by a student who studies \",time[0][0],\" is: \",int(pred_marks[0]))"
   ]
  },
  {
   "cell_type": "code",
   "execution_count": null,
   "id": "attractive-macro",
   "metadata": {},
   "outputs": [],
   "source": []
  }
 ],
 "metadata": {
  "kernelspec": {
   "display_name": "Python 3",
   "language": "python",
   "name": "python3"
  },
  "language_info": {
   "codemirror_mode": {
    "name": "ipython",
    "version": 3
   },
   "file_extension": ".py",
   "mimetype": "text/x-python",
   "name": "python",
   "nbconvert_exporter": "python",
   "pygments_lexer": "ipython3",
   "version": "3.9.2"
  }
 },
 "nbformat": 4,
 "nbformat_minor": 5
}
